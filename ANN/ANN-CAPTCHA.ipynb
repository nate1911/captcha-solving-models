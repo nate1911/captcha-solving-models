{
 "cells": [
  {
   "cell_type": "code",
   "execution_count": 1,
   "id": "c4f266fa",
   "metadata": {},
   "outputs": [],
   "source": [
    "import os\n",
    "import numpy as np\n",
    "import pandas as pd\n",
    "from PIL import Image\n",
    "from sklearn.model_selection import train_test_split\n",
    "from sklearn.preprocessing import LabelBinarizer\n",
    "import matplotlib.pyplot as plt\n",
    "import keras\n",
    "import time\n",
    "from keras.models import Sequential\n",
    "from keras.layers import Conv2D, MaxPooling2D, Flatten, Dense, Dropout\n",
    "from keras.callbacks import EarlyStopping\n",
    "from keras.preprocessing.image import ImageDataGenerator\n",
    "from keras.optimizers import Adam\n",
    "from keras.layers import BatchNormalization\n",
    "from keras.models import load_model"
   ]
  },
  {
   "cell_type": "code",
   "execution_count": 2,
   "id": "1502191b",
   "metadata": {},
   "outputs": [],
   "source": [
    "# Read the CSV file\n",
    "csv_file = \"./dataset/labels_level_1.csv\"\n",
    "df = pd.read_csv(csv_file)\n",
    "num_digits = 5\n",
    "num_classes = 10 \n",
    "\n",
    "# Extract the image filenames and labels\n",
    "img_filenames = df.iloc[:, 0].values\n",
    "labels = df.iloc[:, 1].values\n",
    "\n",
    "#path to the images \n",
    "img_folder = \"./dataset/level_1/\"\n",
    "# Preprocess the images\n",
    "#set height and width\n",
    "img_height, img_width = 60, 150\n",
    "images = []\n",
    "\n",
    "# puts all reshaped and normalized images into list of images\n",
    "for filename in img_filenames:\n",
    "    img_path = os.path.join(img_folder, filename)\n",
    "    img = Image.open(img_path).convert('L')  # Read the image in grayscale\n",
    "    img = img.resize((img_width, img_height))  # Resize the image\n",
    "    img = np.array(img) / 255.0  # Normalize pixel values\n",
    "    img = img.reshape(img_height, img_width, 1)  # Add a channel dimension\n",
    "    images.append(img)\n",
    "\n",
    "#all images are converted into numpy array\n",
    "images = np.array(images)\n",
    "\n",
    "#function to encode labels\n",
    "def one_hot_encode(labels, num_digits, num_classes):\n",
    "    encoded_labels = np.zeros((len(labels), num_digits, num_classes))\n",
    "    for i, label in enumerate(labels):\n",
    "        label_str = str(label).zfill(num_digits)  # Convert the label to a string and pad with zeros if necessary\n",
    "        for j, digit in enumerate(label_str):\n",
    "            encoded_labels[i, j, int(digit)] = 1\n",
    "    return encoded_labels\n",
    "\n",
    "# One-hot encode the labels\n",
    "labels = one_hot_encode(labels, num_digits, num_classes)\n",
    "\n",
    "#splits dataset into training, validation and test sets\n",
    "x_train, x_temp, y_train, y_temp = train_test_split(images, labels, test_size=0.3, random_state=42)\n",
    "x_val, x_test, y_val, y_test = train_test_split(x_temp, y_temp, test_size=0.5, random_state=42)\n",
    "\n",
    "\n"
   ]
  },
  {
   "cell_type": "code",
   "execution_count": 3,
   "id": "890e3e94",
   "metadata": {},
   "outputs": [
    {
     "name": "stdout",
     "output_type": "stream",
     "text": [
      "Actual number: 23023\n"
     ]
    },
    {
     "data": {
      "image/png": "[encoded data removed]",
      "text/plain": [
       "<Figure size 640x480 with 1 Axes>"
      ]
     },
     "metadata": {},
     "output_type": "display_data"
    }
   ],
   "source": [
    "# code to make sure the new dataset contains correct image and label\n",
    "digit_indices = np.argmax(y_train[2], axis=1)\n",
    "actual_number = ''.join(str(digit) for digit in digit_indices)\n",
    "\n",
    "print(\"Actual number:\", actual_number)\n",
    "\n",
    "# Assuming x_train[0] has shape (height, width, 1)\n",
    "image = x_train[2].reshape(x_train[2].shape[0], x_train[2].shape[1])\n",
    "\n",
    "plt.imshow(image, cmap='gray')\n",
    "plt.show()\n"
   ]
  },
  {
   "cell_type": "code",
   "execution_count": 4,
   "id": "e028a683",
   "metadata": {},
   "outputs": [
    {
     "name": "stdout",
     "output_type": "stream",
     "text": [
      "Epoch 1/20\n",
      "110/110 [==============================] - 18s 158ms/step - loss: 3.4200 - accuracy: 0.1254 - val_loss: 3.9603 - val_accuracy: 0.1027\n",
      "Epoch 2/20\n",
      "110/110 [==============================] - 17s 154ms/step - loss: 2.9979 - accuracy: 0.1755 - val_loss: 3.3265 - val_accuracy: 0.1223\n",
      "Epoch 3/20\n",
      "110/110 [==============================] - 17s 154ms/step - loss: 2.7594 - accuracy: 0.2088 - val_loss: 2.6518 - val_accuracy: 0.1953\n",
      "Epoch 4/20\n",
      "110/110 [==============================] - 17s 154ms/step - loss: 2.5737 - accuracy: 0.2432 - val_loss: 2.7214 - val_accuracy: 0.1920\n",
      "Epoch 5/20\n",
      "110/110 [==============================] - 17s 154ms/step - loss: 2.4499 - accuracy: 0.2646 - val_loss: 2.5176 - val_accuracy: 0.2132\n",
      "Epoch 6/20\n",
      "110/110 [==============================] - 17s 154ms/step - loss: 2.3122 - accuracy: 0.2925 - val_loss: 2.5513 - val_accuracy: 0.2461\n",
      "Epoch 7/20\n",
      "110/110 [==============================] - 17s 155ms/step - loss: 2.1928 - accuracy: 0.3177 - val_loss: 2.6624 - val_accuracy: 0.2341\n",
      "Epoch 8/20\n",
      "110/110 [==============================] - 17s 155ms/step - loss: 2.1241 - accuracy: 0.3312 - val_loss: 2.3631 - val_accuracy: 0.2609\n",
      "Epoch 9/20\n",
      "110/110 [==============================] - 17s 155ms/step - loss: 2.0531 - accuracy: 0.3450 - val_loss: 2.3681 - val_accuracy: 0.2791\n",
      "Epoch 10/20\n",
      "110/110 [==============================] - 17s 154ms/step - loss: 1.9659 - accuracy: 0.3605 - val_loss: 2.3280 - val_accuracy: 0.2793\n",
      "Epoch 11/20\n",
      "110/110 [==============================] - 17s 155ms/step - loss: 1.9057 - accuracy: 0.3805 - val_loss: 2.4816 - val_accuracy: 0.2724\n",
      "Epoch 12/20\n",
      "110/110 [==============================] - 17s 156ms/step - loss: 1.8587 - accuracy: 0.3902 - val_loss: 2.5169 - val_accuracy: 0.2803\n",
      "Epoch 13/20\n",
      "110/110 [==============================] - 18s 161ms/step - loss: 1.7920 - accuracy: 0.4043 - val_loss: 2.1766 - val_accuracy: 0.2985\n",
      "Epoch 14/20\n",
      "110/110 [==============================] - 17s 154ms/step - loss: 1.7507 - accuracy: 0.4140 - val_loss: 2.3956 - val_accuracy: 0.2848\n",
      "Epoch 15/20\n",
      "110/110 [==============================] - 17s 154ms/step - loss: 1.7026 - accuracy: 0.4319 - val_loss: 2.4130 - val_accuracy: 0.2891\n",
      "Epoch 16/20\n",
      "110/110 [==============================] - 17s 154ms/step - loss: 1.6616 - accuracy: 0.4413 - val_loss: 2.2293 - val_accuracy: 0.3336\n",
      "Epoch 17/20\n",
      "110/110 [==============================] - 17s 155ms/step - loss: 1.6162 - accuracy: 0.4554 - val_loss: 2.6346 - val_accuracy: 0.2684\n",
      "Epoch 18/20\n",
      "110/110 [==============================] - 17s 155ms/step - loss: 1.5878 - accuracy: 0.4619 - val_loss: 2.3806 - val_accuracy: 0.2923\n",
      "Epoch 19/20\n",
      "110/110 [==============================] - 17s 155ms/step - loss: 1.5511 - accuracy: 0.4703 - val_loss: 2.1795 - val_accuracy: 0.3359\n",
      "Epoch 20/20\n",
      "110/110 [==============================] - 17s 155ms/step - loss: 1.5251 - accuracy: 0.4778 - val_loss: 2.1893 - val_accuracy: 0.3444\n",
      "47/47 [==============================] - 1s 17ms/step - loss: 2.1684 - accuracy: 0.3497\n",
      "\n",
      "Test loss: 2.1683638095855713\n",
      "Test accuracy for each digit: [0.3497333228588104]\n",
      "Average test accuracy: 0.3497333228588104\n"
     ]
    }
   ],
   "source": [
    "import numpy as np\n",
    "import keras\n",
    "from keras.models import Sequential\n",
    "from keras.layers import Dense, Dropout, Flatten, BatchNormalization\n",
    "from keras.optimizers import Adam\n",
    "from keras.callbacks import EarlyStopping\n",
    "\n",
    "# Assuming x_train, x_val, and x_test have been preprocessed as shown in the previous code snippets\n",
    "\n",
    "num_digits = 5\n",
    "num_classes = 10  # There are 10 possible outcomes (0-9)\n",
    "\n",
    "# Flatten the input images\n",
    "x_train_flat = np.reshape(x_train, (x_train.shape[0], img_height * img_width))\n",
    "x_val_flat = np.reshape(x_val, (x_val.shape[0], img_height * img_width))\n",
    "x_test_flat = np.reshape(x_test, (x_test.shape[0], img_height * img_width))\n",
    "\n",
    "\n",
    "model = Sequential()\n",
    "\n",
    "\n",
    "model.add(Dense(4096, activation='relu', input_shape=(img_height * img_width,)))\n",
    "model.add(BatchNormalization())\n",
    "model.add(Dropout(0.5))\n",
    "\n",
    "model.add(Dense(2048, activation='relu', input_shape=(img_height * img_width,)))\n",
    "model.add(BatchNormalization())\n",
    "model.add(Dropout(0.5))\n",
    "\n",
    "model.add(Dense(1024, activation='relu', input_shape=(img_height * img_width,)))\n",
    "model.add(BatchNormalization())\n",
    "model.add(Dropout(0.5))\n",
    "\n",
    "\n",
    "model.add(Dense(num_digits * num_classes, activation='softmax'))\n",
    "model.add(keras.layers.Reshape((num_digits, num_classes)))\n",
    "\n",
    "lr = 1e-4  # Set the learning rate to a smaller value\n",
    "optimizer = Adam(learning_rate=lr)\n",
    "model.compile(optimizer=optimizer, loss='categorical_crossentropy', metrics=['accuracy'])\n",
    "# Record start time\n",
    "start_time = time.time()\n",
    "early_stopping = EarlyStopping(monitor='val_loss', patience=5, restore_best_weights=True)\n",
    "\n",
    "# Train the model\n",
    "model.fit(x_train_flat, y_train, batch_size=64, epochs=20, validation_data=(x_val_flat, y_val))\n",
    "# Evaluate the model\n",
    "results = model.evaluate(x_test_flat, y_test)\n",
    "test_loss = results[0]\n",
    "test_acc = results[1:]\n",
    "\n",
    "print('\\nTest loss:', test_loss)\n",
    "print('Test accuracy for each digit:', test_acc)\n",
    "\n",
    "average_test_acc = np.mean(test_acc)\n",
    "print('Average test accuracy:', average_test_acc)\n"
   ]
  },
  {
   "cell_type": "code",
   "execution_count": 5,
   "id": "467311fc",
   "metadata": {},
   "outputs": [],
   "source": [
    "def preprocess_image(image_path, img_height, img_width):\n",
    "    img = Image.open(image_path).convert('L')  # Read the image in grayscale\n",
    "    img = img.resize((img_width, img_height))  # Resize the image\n",
    "    img = np.array(img) / 255.0  # Normalize pixel values\n",
    "    img = img.reshape(1, -1)  # Add batch dimension and flatten the image\n",
    "    return img\n",
    "\n",
    "# # Preprocess the new CAPTCHA image\n",
    "# new_image_path = \"./archive/level_4/file_121.png\"\n",
    "# new_img = preprocess_image(new_image_path, img_height, img_width)\n",
    "# plt.imshow(new_img.reshape(img_height, img_width), cmap='gray')\n",
    "# plt.show()\n",
    "\n",
    "\n"
   ]
  },
  {
   "cell_type": "code",
   "execution_count": 6,
   "id": "b9bdcce5",
   "metadata": {},
   "outputs": [],
   "source": [
    "def decode_predictions(predictions):\n",
    "    decoded_preds = []\n",
    "    for pred in predictions:\n",
    "        decoded_pred = ''.join([str(np.argmax(digit)) for digit in pred])\n",
    "        decoded_preds.append(decoded_pred)\n",
    "    return decoded_preds\n"
   ]
  },
  {
   "cell_type": "code",
   "execution_count": 7,
   "id": "c76155e4",
   "metadata": {},
   "outputs": [
    {
     "data": {
      "image/png": "[encoded data removed]",
      "text/plain": [
       "<Figure size 640x480 with 1 Axes>"
      ]
     },
     "metadata": {},
     "output_type": "display_data"
    },
    {
     "name": "stdout",
     "output_type": "stream",
     "text": [
      "1/1 [==============================] - 0s 87ms/step\n",
      "Actual CAPTCHA: 61172\n",
      "Predicted CAPTCHA: 66772\n"
     ]
    }
   ],
   "source": [
    "# Preprocess the new CAPTCHA image\n",
    "# new_image_path = \"./archive/level_1/file_121.png\"\n",
    "# new_img = preprocess_image(new_image_path, img_height, img_width)\n",
    "# plt.imshow(new_img.squeeze(), cmap='gray')\n",
    "# plt.show()\n",
    "\n",
    "new_image_path = \"./dataset/level_1/file_121.png\"\n",
    "new_img = preprocess_image(new_image_path, img_height, img_width)\n",
    "plt.imshow(new_img.reshape(img_height, img_width), cmap='gray')\n",
    "plt.show()\n",
    "\n",
    "\n",
    "csv_file = \"./dataset/labels_level_1.csv\"\n",
    "df = pd.read_csv(csv_file)\n",
    "\n",
    "# Find the actual CAPTCHA for the given image file\n",
    "actual_numbers = df.loc[df['file_name'] == os.path.basename(new_image_path), 'label'].values[0]\n",
    "\n",
    "\n",
    "\n",
    "# Make predictions\n",
    "predictions = model.predict(new_img)\n",
    "\n",
    "# Decode the predictions\n",
    "decoded_predictions = decode_predictions(predictions)\n",
    "print(\"Actual CAPTCHA:\", actual_numbers)\n",
    "print(\"Predicted CAPTCHA:\", decoded_predictions[0])"
   ]
  },
  {
   "cell_type": "code",
   "execution_count": 8,
   "id": "b6c06e09",
   "metadata": {},
   "outputs": [
    {
     "name": "stdout",
     "output_type": "stream",
     "text": [
      "INFO:tensorflow:Assets written to: ANN-23-L1\\assets\n"
     ]
    }
   ],
   "source": [
    "model.save('ANN-23-L1')"
   ]
  },
  {
   "cell_type": "code",
   "execution_count": 9,
   "id": "ed7d0afe",
   "metadata": {},
   "outputs": [
    {
     "name": "stdout",
     "output_type": "stream",
     "text": [
      "1/1 [==============================] - 0s 64ms/step\n"
     ]
    }
   ],
   "source": [
    "from keras.models import load_model\n",
    "\n",
    "loaded_model = load_model('ANN-23-L1')\n",
    "\n",
    "# Preprocess a new image\n",
    "new_image_path = \"./dataset/level_1/file_121.png\"\n",
    "new_img = preprocess_image(new_image_path, img_height, img_width)\n",
    "\n",
    "# Run the prediction\n",
    "predictions = loaded_model.predict(new_img)\n",
    "\n",
    "# Decode the predictions\n",
    "decoded_predictions = decode_predictions(predictions)"
   ]
  },
  {
   "cell_type": "code",
   "execution_count": 10,
   "id": "96dad0bd",
   "metadata": {},
   "outputs": [
    {
     "data": {
      "image/png": "[encoded data removed]",
      "text/plain": [
       "<Figure size 640x480 with 1 Axes>"
      ]
     },
     "metadata": {},
     "output_type": "display_data"
    },
    {
     "name": "stdout",
     "output_type": "stream",
     "text": [
      "Predicted CAPTCHA: 66772\n",
      "Elapsed time: 5.77 minutes\n"
     ]
    }
   ],
   "source": [
    "import matplotlib.pyplot as plt\n",
    "\n",
    "# Display the actual CAPTCHA image\n",
    "plt.imshow(new_img.reshape(img_height, img_width), cmap='gray')\n",
    "plt.title('Actual CAPTCHA')\n",
    "plt.show()\n",
    "\n",
    "# Print the predicted CAPTCHA\n",
    "predicted_captcha = decoded_predictions[0]\n",
    "print(\"Predicted CAPTCHA:\", predicted_captcha)\n",
    "# Record end time\n",
    "end_time = time.time()\n",
    "elapsed_time = end_time - start_time\n",
    "\n",
    "# Convert elapsed time to minutes\n",
    "elapsed_time_minutes = elapsed_time / 60\n",
    "\n",
    "print(f\"Elapsed time: {elapsed_time_minutes:.2f} minutes\")\n",
    "\n"
   ]
  },
  {
   "cell_type": "code",
   "execution_count": null,
   "id": "b5836ac4",
   "metadata": {},
   "outputs": [],
   "source": []
  },
  {
   "cell_type": "code",
   "execution_count": null,
   "id": "eed645ce",
   "metadata": {},
   "outputs": [],
   "source": []
  }
 ],
 "metadata": {
  "kernelspec": {
   "display_name": "Python 3 (ipykernel)",
   "language": "python",
   "name": "python3"
  },
  "language_info": {
   "codemirror_mode": {
    "name": "ipython",
    "version": 3
   },
   "file_extension": ".py",
   "mimetype": "text/x-python",
   "name": "python",
   "nbconvert_exporter": "python",
   "pygments_lexer": "ipython3",
   "version": "3.9.13"
  }
 },
 "nbformat": 4,
 "nbformat_minor": 5
}
